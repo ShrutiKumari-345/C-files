{
  "nbformat": 4,
  "nbformat_minor": 0,
  "metadata": {
    "colab": {
      "provenance": [],
      "authorship_tag": "ABX9TyMOpndDL0uiEQdpjgc9hTuT",
      "include_colab_link": true
    },
    "kernelspec": {
      "name": "python3",
      "display_name": "Python 3"
    },
    "language_info": {
      "name": "python"
    }
  },
  "cells": [
    {
      "cell_type": "markdown",
      "metadata": {
        "id": "view-in-github",
        "colab_type": "text"
      },
      "source": [
        "<a href=\"https://colab.research.google.com/github/ShrutiKumari-345/C-files/blob/main/Untitled8.ipynb\" target=\"_parent\"><img src=\"https://colab.research.google.com/assets/colab-badge.svg\" alt=\"Open In Colab\"/></a>"
      ]
    },
    {
      "cell_type": "code",
      "execution_count": 2,
      "metadata": {
        "id": "tTiRij8Hpqtg"
      },
      "outputs": [],
      "source": [
        "# import libraries\n",
        "import numpy as np\n",
        "import pandas as pd\n",
        "import matplotlib.pyplot as plt\n",
        "import seaborn as sns\n",
        "from matplotlib.pyplot import xticks\n",
        "from nltk.corpus import stopwords\n",
        "import nltk\n",
        "import re\n",
        "from nltk.stem import WordNetLemmatizer\n",
        "import string\n",
        "from nltk.tokenize import word_tokenize\n",
        "from nltk.util import ngrams\n",
        "from collections import defaultdict\n",
        "from tqdm import tqdm\n",
        "from sklearn.model_selection import train_test_split\n",
        "from keras.models import Sequential\n",
        "from keras.layers import Dense\n",
        "from tensorflow.keras.callbacks import ModelCheckpoint, EarlyStopping, Callback\n",
        "import tensorflow as tf\n",
        "from sklearn.metrics import f1_score\n",
        "from wordcloud import WordCloud,STOPWORDS\n",
        "from sklearn.metrics import accuracy_score, classification_report, confusion_matrix\n",
        "from sklearn.feature_extraction.text import TfidfVectorizer\n",
        "from sklearn.pipeline import Pipeline\n",
        "from keras.preprocessing.sequence import pad_sequences\n",
        "from numpy import array\n",
        "from numpy import asarray\n",
        "from numpy import zeros\n",
        "from keras.preprocessing.text import Tokenizer\n",
        "from keras.preprocessing.sequence import pad_sequences\n",
        "from keras.models import Sequential\n",
        "from keras.layers import Dense,Flatten,Embedding,Activation,Dropout\n",
        "from keras.layers import Conv1D,MaxPooling1D,GlobalMaxPooling1D,LSTM"
      ]
    },
    {
      "cell_type": "code",
      "source": [
        "# load train and test datasets\n",
        "train= pd.read_csv('/content/train.csv')\n",
        "test=pd.read_csv('/content/test.csv')"
      ],
      "metadata": {
        "id": "81CL4KNat4Vw"
      },
      "execution_count": 3,
      "outputs": []
    },
    {
      "cell_type": "code",
      "source": [
        "# check the no. of rows and columns in the dataset\n",
        "train.shape, test.shape"
      ],
      "metadata": {
        "colab": {
          "base_uri": "https://localhost:8080/"
        },
        "id": "YLVG0uRDuETS",
        "outputId": "1169a26f-8c09-4330-97b5-a9c9be0604ab"
      },
      "execution_count": 4,
      "outputs": [
        {
          "output_type": "execute_result",
          "data": {
            "text/plain": [
              "((7613, 5), (3263, 4))"
            ]
          },
          "metadata": {},
          "execution_count": 4
        }
      ]
    },
    {
      "cell_type": "code",
      "source": [
        "train.head()"
      ],
      "metadata": {
        "colab": {
          "base_uri": "https://localhost:8080/",
          "height": 206
        },
        "id": "2ywTO94ruJ-a",
        "outputId": "09546059-6b25-487d-f96d-0bd62e448352"
      },
      "execution_count": 5,
      "outputs": [
        {
          "output_type": "execute_result",
          "data": {
            "text/plain": [
              "   id keyword location                                               text  \\\n",
              "0   1     NaN      NaN  Our Deeds are the Reason of this #earthquake M...   \n",
              "1   4     NaN      NaN             Forest fire near La Ronge Sask. Canada   \n",
              "2   5     NaN      NaN  All residents asked to 'shelter in place' are ...   \n",
              "3   6     NaN      NaN  13,000 people receive #wildfires evacuation or...   \n",
              "4   7     NaN      NaN  Just got sent this photo from Ruby #Alaska as ...   \n",
              "\n",
              "   target  \n",
              "0       1  \n",
              "1       1  \n",
              "2       1  \n",
              "3       1  \n",
              "4       1  "
            ],
            "text/html": [
              "\n",
              "  <div id=\"df-d82d006c-2fa4-4a76-a7d8-30d5593de446\" class=\"colab-df-container\">\n",
              "    <div>\n",
              "<style scoped>\n",
              "    .dataframe tbody tr th:only-of-type {\n",
              "        vertical-align: middle;\n",
              "    }\n",
              "\n",
              "    .dataframe tbody tr th {\n",
              "        vertical-align: top;\n",
              "    }\n",
              "\n",
              "    .dataframe thead th {\n",
              "        text-align: right;\n",
              "    }\n",
              "</style>\n",
              "<table border=\"1\" class=\"dataframe\">\n",
              "  <thead>\n",
              "    <tr style=\"text-align: right;\">\n",
              "      <th></th>\n",
              "      <th>id</th>\n",
              "      <th>keyword</th>\n",
              "      <th>location</th>\n",
              "      <th>text</th>\n",
              "      <th>target</th>\n",
              "    </tr>\n",
              "  </thead>\n",
              "  <tbody>\n",
              "    <tr>\n",
              "      <th>0</th>\n",
              "      <td>1</td>\n",
              "      <td>NaN</td>\n",
              "      <td>NaN</td>\n",
              "      <td>Our Deeds are the Reason of this #earthquake M...</td>\n",
              "      <td>1</td>\n",
              "    </tr>\n",
              "    <tr>\n",
              "      <th>1</th>\n",
              "      <td>4</td>\n",
              "      <td>NaN</td>\n",
              "      <td>NaN</td>\n",
              "      <td>Forest fire near La Ronge Sask. Canada</td>\n",
              "      <td>1</td>\n",
              "    </tr>\n",
              "    <tr>\n",
              "      <th>2</th>\n",
              "      <td>5</td>\n",
              "      <td>NaN</td>\n",
              "      <td>NaN</td>\n",
              "      <td>All residents asked to 'shelter in place' are ...</td>\n",
              "      <td>1</td>\n",
              "    </tr>\n",
              "    <tr>\n",
              "      <th>3</th>\n",
              "      <td>6</td>\n",
              "      <td>NaN</td>\n",
              "      <td>NaN</td>\n",
              "      <td>13,000 people receive #wildfires evacuation or...</td>\n",
              "      <td>1</td>\n",
              "    </tr>\n",
              "    <tr>\n",
              "      <th>4</th>\n",
              "      <td>7</td>\n",
              "      <td>NaN</td>\n",
              "      <td>NaN</td>\n",
              "      <td>Just got sent this photo from Ruby #Alaska as ...</td>\n",
              "      <td>1</td>\n",
              "    </tr>\n",
              "  </tbody>\n",
              "</table>\n",
              "</div>\n",
              "    <div class=\"colab-df-buttons\">\n",
              "\n",
              "  <div class=\"colab-df-container\">\n",
              "    <button class=\"colab-df-convert\" onclick=\"convertToInteractive('df-d82d006c-2fa4-4a76-a7d8-30d5593de446')\"\n",
              "            title=\"Convert this dataframe to an interactive table.\"\n",
              "            style=\"display:none;\">\n",
              "\n",
              "  <svg xmlns=\"http://www.w3.org/2000/svg\" height=\"24px\" viewBox=\"0 -960 960 960\">\n",
              "    <path d=\"M120-120v-720h720v720H120Zm60-500h600v-160H180v160Zm220 220h160v-160H400v160Zm0 220h160v-160H400v160ZM180-400h160v-160H180v160Zm440 0h160v-160H620v160ZM180-180h160v-160H180v160Zm440 0h160v-160H620v160Z\"/>\n",
              "  </svg>\n",
              "    </button>\n",
              "\n",
              "  <style>\n",
              "    .colab-df-container {\n",
              "      display:flex;\n",
              "      gap: 12px;\n",
              "    }\n",
              "\n",
              "    .colab-df-convert {\n",
              "      background-color: #E8F0FE;\n",
              "      border: none;\n",
              "      border-radius: 50%;\n",
              "      cursor: pointer;\n",
              "      display: none;\n",
              "      fill: #1967D2;\n",
              "      height: 32px;\n",
              "      padding: 0 0 0 0;\n",
              "      width: 32px;\n",
              "    }\n",
              "\n",
              "    .colab-df-convert:hover {\n",
              "      background-color: #E2EBFA;\n",
              "      box-shadow: 0px 1px 2px rgba(60, 64, 67, 0.3), 0px 1px 3px 1px rgba(60, 64, 67, 0.15);\n",
              "      fill: #174EA6;\n",
              "    }\n",
              "\n",
              "    .colab-df-buttons div {\n",
              "      margin-bottom: 4px;\n",
              "    }\n",
              "\n",
              "    [theme=dark] .colab-df-convert {\n",
              "      background-color: #3B4455;\n",
              "      fill: #D2E3FC;\n",
              "    }\n",
              "\n",
              "    [theme=dark] .colab-df-convert:hover {\n",
              "      background-color: #434B5C;\n",
              "      box-shadow: 0px 1px 3px 1px rgba(0, 0, 0, 0.15);\n",
              "      filter: drop-shadow(0px 1px 2px rgba(0, 0, 0, 0.3));\n",
              "      fill: #FFFFFF;\n",
              "    }\n",
              "  </style>\n",
              "\n",
              "    <script>\n",
              "      const buttonEl =\n",
              "        document.querySelector('#df-d82d006c-2fa4-4a76-a7d8-30d5593de446 button.colab-df-convert');\n",
              "      buttonEl.style.display =\n",
              "        google.colab.kernel.accessAllowed ? 'block' : 'none';\n",
              "\n",
              "      async function convertToInteractive(key) {\n",
              "        const element = document.querySelector('#df-d82d006c-2fa4-4a76-a7d8-30d5593de446');\n",
              "        const dataTable =\n",
              "          await google.colab.kernel.invokeFunction('convertToInteractive',\n",
              "                                                    [key], {});\n",
              "        if (!dataTable) return;\n",
              "\n",
              "        const docLinkHtml = 'Like what you see? Visit the ' +\n",
              "          '<a target=\"_blank\" href=https://colab.research.google.com/notebooks/data_table.ipynb>data table notebook</a>'\n",
              "          + ' to learn more about interactive tables.';\n",
              "        element.innerHTML = '';\n",
              "        dataTable['output_type'] = 'display_data';\n",
              "        await google.colab.output.renderOutput(dataTable, element);\n",
              "        const docLink = document.createElement('div');\n",
              "        docLink.innerHTML = docLinkHtml;\n",
              "        element.appendChild(docLink);\n",
              "      }\n",
              "    </script>\n",
              "  </div>\n",
              "\n",
              "\n",
              "<div id=\"df-6df24378-ef91-448f-b63e-ee49e1d2fb49\">\n",
              "  <button class=\"colab-df-quickchart\" onclick=\"quickchart('df-6df24378-ef91-448f-b63e-ee49e1d2fb49')\"\n",
              "            title=\"Suggest charts\"\n",
              "            style=\"display:none;\">\n",
              "\n",
              "<svg xmlns=\"http://www.w3.org/2000/svg\" height=\"24px\"viewBox=\"0 0 24 24\"\n",
              "     width=\"24px\">\n",
              "    <g>\n",
              "        <path d=\"M19 3H5c-1.1 0-2 .9-2 2v14c0 1.1.9 2 2 2h14c1.1 0 2-.9 2-2V5c0-1.1-.9-2-2-2zM9 17H7v-7h2v7zm4 0h-2V7h2v10zm4 0h-2v-4h2v4z\"/>\n",
              "    </g>\n",
              "</svg>\n",
              "  </button>\n",
              "\n",
              "<style>\n",
              "  .colab-df-quickchart {\n",
              "      --bg-color: #E8F0FE;\n",
              "      --fill-color: #1967D2;\n",
              "      --hover-bg-color: #E2EBFA;\n",
              "      --hover-fill-color: #174EA6;\n",
              "      --disabled-fill-color: #AAA;\n",
              "      --disabled-bg-color: #DDD;\n",
              "  }\n",
              "\n",
              "  [theme=dark] .colab-df-quickchart {\n",
              "      --bg-color: #3B4455;\n",
              "      --fill-color: #D2E3FC;\n",
              "      --hover-bg-color: #434B5C;\n",
              "      --hover-fill-color: #FFFFFF;\n",
              "      --disabled-bg-color: #3B4455;\n",
              "      --disabled-fill-color: #666;\n",
              "  }\n",
              "\n",
              "  .colab-df-quickchart {\n",
              "    background-color: var(--bg-color);\n",
              "    border: none;\n",
              "    border-radius: 50%;\n",
              "    cursor: pointer;\n",
              "    display: none;\n",
              "    fill: var(--fill-color);\n",
              "    height: 32px;\n",
              "    padding: 0;\n",
              "    width: 32px;\n",
              "  }\n",
              "\n",
              "  .colab-df-quickchart:hover {\n",
              "    background-color: var(--hover-bg-color);\n",
              "    box-shadow: 0 1px 2px rgba(60, 64, 67, 0.3), 0 1px 3px 1px rgba(60, 64, 67, 0.15);\n",
              "    fill: var(--button-hover-fill-color);\n",
              "  }\n",
              "\n",
              "  .colab-df-quickchart-complete:disabled,\n",
              "  .colab-df-quickchart-complete:disabled:hover {\n",
              "    background-color: var(--disabled-bg-color);\n",
              "    fill: var(--disabled-fill-color);\n",
              "    box-shadow: none;\n",
              "  }\n",
              "\n",
              "  .colab-df-spinner {\n",
              "    border: 2px solid var(--fill-color);\n",
              "    border-color: transparent;\n",
              "    border-bottom-color: var(--fill-color);\n",
              "    animation:\n",
              "      spin 1s steps(1) infinite;\n",
              "  }\n",
              "\n",
              "  @keyframes spin {\n",
              "    0% {\n",
              "      border-color: transparent;\n",
              "      border-bottom-color: var(--fill-color);\n",
              "      border-left-color: var(--fill-color);\n",
              "    }\n",
              "    20% {\n",
              "      border-color: transparent;\n",
              "      border-left-color: var(--fill-color);\n",
              "      border-top-color: var(--fill-color);\n",
              "    }\n",
              "    30% {\n",
              "      border-color: transparent;\n",
              "      border-left-color: var(--fill-color);\n",
              "      border-top-color: var(--fill-color);\n",
              "      border-right-color: var(--fill-color);\n",
              "    }\n",
              "    40% {\n",
              "      border-color: transparent;\n",
              "      border-right-color: var(--fill-color);\n",
              "      border-top-color: var(--fill-color);\n",
              "    }\n",
              "    60% {\n",
              "      border-color: transparent;\n",
              "      border-right-color: var(--fill-color);\n",
              "    }\n",
              "    80% {\n",
              "      border-color: transparent;\n",
              "      border-right-color: var(--fill-color);\n",
              "      border-bottom-color: var(--fill-color);\n",
              "    }\n",
              "    90% {\n",
              "      border-color: transparent;\n",
              "      border-bottom-color: var(--fill-color);\n",
              "    }\n",
              "  }\n",
              "</style>\n",
              "\n",
              "  <script>\n",
              "    async function quickchart(key) {\n",
              "      const quickchartButtonEl =\n",
              "        document.querySelector('#' + key + ' button');\n",
              "      quickchartButtonEl.disabled = true;  // To prevent multiple clicks.\n",
              "      quickchartButtonEl.classList.add('colab-df-spinner');\n",
              "      try {\n",
              "        const charts = await google.colab.kernel.invokeFunction(\n",
              "            'suggestCharts', [key], {});\n",
              "      } catch (error) {\n",
              "        console.error('Error during call to suggestCharts:', error);\n",
              "      }\n",
              "      quickchartButtonEl.classList.remove('colab-df-spinner');\n",
              "      quickchartButtonEl.classList.add('colab-df-quickchart-complete');\n",
              "    }\n",
              "    (() => {\n",
              "      let quickchartButtonEl =\n",
              "        document.querySelector('#df-6df24378-ef91-448f-b63e-ee49e1d2fb49 button');\n",
              "      quickchartButtonEl.style.display =\n",
              "        google.colab.kernel.accessAllowed ? 'block' : 'none';\n",
              "    })();\n",
              "  </script>\n",
              "</div>\n",
              "\n",
              "    </div>\n",
              "  </div>\n"
            ],
            "application/vnd.google.colaboratory.intrinsic+json": {
              "type": "dataframe",
              "variable_name": "train",
              "summary": "{\n  \"name\": \"train\",\n  \"rows\": 7613,\n  \"fields\": [\n    {\n      \"column\": \"id\",\n      \"properties\": {\n        \"dtype\": \"number\",\n        \"std\": 3137,\n        \"min\": 1,\n        \"max\": 10873,\n        \"num_unique_values\": 7613,\n        \"samples\": [\n          3796,\n          3185,\n          7769\n        ],\n        \"semantic_type\": \"\",\n        \"description\": \"\"\n      }\n    },\n    {\n      \"column\": \"keyword\",\n      \"properties\": {\n        \"dtype\": \"category\",\n        \"num_unique_values\": 221,\n        \"samples\": [\n          \"injury\",\n          \"nuclear%20reactor\",\n          \"engulfed\"\n        ],\n        \"semantic_type\": \"\",\n        \"description\": \"\"\n      }\n    },\n    {\n      \"column\": \"location\",\n      \"properties\": {\n        \"dtype\": \"category\",\n        \"num_unique_values\": 3341,\n        \"samples\": [\n          \"Oklahoma\",\n          \"Starling City\",\n          \"Trinidad and Tobago\"\n        ],\n        \"semantic_type\": \"\",\n        \"description\": \"\"\n      }\n    },\n    {\n      \"column\": \"text\",\n      \"properties\": {\n        \"dtype\": \"string\",\n        \"num_unique_values\": 7503,\n        \"samples\": [\n          \"Three Homes Demolished in Unrecognized Arab Village - International Middle East Media Center http://t.co/ik8m4Yi9T4\",\n          \"Reid Lake fire prompts campground evacuation order http://t.co/jBODKM6rBU\",\n          \"FAAN orders evacuation of abandoned aircraft at MMA http://t.co/dEvYbnVXGQ via @todayng\"\n        ],\n        \"semantic_type\": \"\",\n        \"description\": \"\"\n      }\n    },\n    {\n      \"column\": \"target\",\n      \"properties\": {\n        \"dtype\": \"number\",\n        \"std\": 0,\n        \"min\": 0,\n        \"max\": 1,\n        \"num_unique_values\": 2,\n        \"samples\": [\n          0,\n          1\n        ],\n        \"semantic_type\": \"\",\n        \"description\": \"\"\n      }\n    }\n  ]\n}"
            }
          },
          "metadata": {},
          "execution_count": 5
        }
      ]
    },
    {
      "cell_type": "code",
      "source": [
        "train.isnull().sum().sort_values(ascending = False)"
      ],
      "metadata": {
        "colab": {
          "base_uri": "https://localhost:8080/"
        },
        "id": "nWiZcL4IuOrl",
        "outputId": "0403a471-ac53-436d-d05e-c9458a42c6ea"
      },
      "execution_count": 6,
      "outputs": [
        {
          "output_type": "execute_result",
          "data": {
            "text/plain": [
              "location    2533\n",
              "keyword       61\n",
              "id             0\n",
              "text           0\n",
              "target         0\n",
              "dtype: int64"
            ]
          },
          "metadata": {},
          "execution_count": 6
        }
      ]
    },
    {
      "cell_type": "markdown",
      "source": [
        "Exploratory Data Analysis"
      ],
      "metadata": {
        "id": "_7Oqm6FquYKr"
      }
    },
    {
      "cell_type": "code",
      "source": [
        "# function to draw bar plot\n",
        "def draw_bar_plot(category,length,xlabel,ylabel,title,sub):\n",
        "    plt.subplot(2,2,sub)\n",
        "    plt.bar(category, length,color = 'grbkymc')\n",
        "    plt.legend()\n",
        "    plt.xlabel(xlabel, fontsize=15)\n",
        "    plt.ylabel(ylabel, fontsize=15)\n",
        "    plt.title(title, fontsize=15)\n",
        "    #plt.show()"
      ],
      "metadata": {
        "id": "Yb1YZSEruS7F"
      },
      "execution_count": 7,
      "outputs": []
    },
    {
      "cell_type": "code",
      "source": [
        "# function to draw histogram\n",
        "def draw_hist(xlabel, ylabel,title,target,sub,color):\n",
        "    plt.subplot(1,2,sub)\n",
        "    plt.hist(train[train.target==target][\"length\"],color = color)\n",
        "    plt.title(title,fontsize=25)\n",
        "    plt.xlabel(xlabel,fontsize=15)\n",
        "    plt.ylabel(ylabel,fontsize=15)\n",
        "    plt.ylim(0,1200)\n",
        "    plt.grid()"
      ],
      "metadata": {
        "id": "zAWKqlNuudCw"
      },
      "execution_count": 8,
      "outputs": []
    },
    {
      "cell_type": "code",
      "source": [
        "# function to draw graphs for stopwords and punctuations\n",
        "def draw_bar_n_plot(data,title):\n",
        "# lets visualize the top 10 stop words\n",
        "    x,y=zip(*data)\n",
        "\n",
        "    plt.figure(figsize = (25,10))\n",
        "    plt.subplot(1,2,1)\n",
        "    plt.bar(x,y,color='grbkymc')\n",
        "    plt.title(\"Top 10 \"+ title,fontsize=25)\n",
        "    plt.xlabel(title,fontsize=15)\n",
        "    plt.ylabel(\"Count\",fontsize=15)\n",
        "    plt.grid()\n",
        "\n",
        "    plt.subplot(1,2,2)\n",
        "    plt.plot(x,y,'g')\n",
        "    plt.title(\"Top 10 \"+ title,fontsize=25)\n",
        "    plt.xlabel(title,fontsize=15)\n",
        "    plt.ylabel(\"Count\",fontsize=15)\n",
        "    plt.grid()"
      ],
      "metadata": {
        "id": "IH2sHe44ugSZ"
      },
      "execution_count": 9,
      "outputs": []
    },
    {
      "cell_type": "code",
      "source": [
        "# check class distribution\n",
        "\n",
        "print(\"No. of Real Disaster Tweets (Target = 1):\",len(train[train[\"target\"]==1]))\n",
        "print(\"No. of Fake Disaster Tweets (Target = 0):\",len(train[train[\"target\"]==0]))"
      ],
      "metadata": {
        "colab": {
          "base_uri": "https://localhost:8080/"
        },
        "id": "289MpIuGukur",
        "outputId": "c88a0cc5-1ac2-4449-8a21-4c00aa5cc7ca"
      },
      "execution_count": 10,
      "outputs": [
        {
          "output_type": "stream",
          "name": "stdout",
          "text": [
            "No. of Real Disaster Tweets (Target = 1): 3271\n",
            "No. of Fake Disaster Tweets (Target = 0): 4342\n"
          ]
        }
      ]
    },
    {
      "cell_type": "code",
      "source": [
        "import matplotlib.pyplot as plt\n",
        "\n",
        "def draw_bar_plot(labels, values, title, xlabel, ylabel, index):\n",
        "    plt.subplot(2, 2, index)\n",
        "    plt.bar(labels, values, color=['blue', 'red'])  # Providing explicit colors for 'Real' and 'Fake'\n",
        "    plt.title(title)\n",
        "    plt.xlabel(xlabel)\n",
        "    plt.ylabel(ylabel)\n",
        "\n",
        "# Replace the color values in your code with color names or explicit RGB values\n",
        "plt.figure(figsize=(12, 8))\n",
        "draw_bar_plot([\"Real\", \"Fake\"], [len(train[train.target == 1]), len(train[train.target == 0])], \"Real Vs Fake\", \"Number of Tweets\", \"Class Distribution\", 1)\n"
      ],
      "metadata": {
        "colab": {
          "base_uri": "https://localhost:8080/",
          "height": 382
        },
        "id": "ulY8T9KhuodW",
        "outputId": "5fbf8cdc-9657-45f4-e343-c8b60344cdc3"
      },
      "execution_count": 13,
      "outputs": [
        {
          "output_type": "display_data",
          "data": {
            "text/plain": [
              "<Figure size 1200x800 with 1 Axes>"
            ],
            "image/png": "[encoded data removed]"
          },
          "metadata": {}
        }
      ]
    },
    {
      "cell_type": "code",
      "source": [
        "# we will now check the length of \"real disaster\" vs lenght of \"fake disaster\" tweets\n",
        "# lets first add a new field to the dataset called \"length\"\n",
        "def length(text):\n",
        "    return len(text)\n",
        "\n",
        "train[\"length\"]= train.text.apply(length)"
      ],
      "metadata": {
        "id": "jqov211IvMSG"
      },
      "execution_count": 14,
      "outputs": []
    },
    {
      "cell_type": "code",
      "source": [
        "# lets see the distribution of length of tweets real vs fake\n",
        "\n",
        "plt.figure(figsize = (20,8))\n",
        "draw_hist(\"Real Disaster Tweets\",\"Length of Tweets\",\"Length of Real Disaster Tweets\",1, 1,\"darkgreen\")\n",
        "draw_hist(\"Fake Disaster Tweets\",\"Length of Tweets\",\"Length of Fake Disaster Tweets\",0, 2,\"darkred\")"
      ],
      "metadata": {
        "colab": {
          "base_uri": "https://localhost:8080/",
          "height": 505
        },
        "id": "6-XCu3h5vP1z",
        "outputId": "d4114c99-1c30-4a9d-eaff-a21716014162"
      },
      "execution_count": 15,
      "outputs": [
        {
          "output_type": "display_data",
          "data": {
            "text/plain": [
              "<Figure size 2000x800 with 2 Axes>"
            ],
            "image/png": "[encoded data removed]"
          },
          "metadata": {}
        }
      ]
    },
    {
      "cell_type": "code",
      "source": [
        "# lets check the average lenght of real vs fake tweets\n",
        "print(train.groupby(\"target\").mean()[\"length\"].sort_values(ascending = False))\n",
        "\n",
        "# lets visualize the class distribution\n",
        "plt.figure(figsize = (12,8))\n",
        "draw_bar_plot([\"Real\",\"Fake\"],[train[train.target==1].mean()[\"length\"], train[train.target==0].mean()[\"length\"]],\"Real Vs Fake\",\"Average Length\",\"Average Text Length - Real Vs Fake\",1)"
      ],
      "metadata": {
        "colab": {
          "base_uri": "https://localhost:8080/",
          "height": 576
        },
        "id": "ifH2ccMEvUDq",
        "outputId": "9ad72c86-2403-404f-cba3-dbb4b6a3d756"
      },
      "execution_count": 16,
      "outputs": [
        {
          "output_type": "stream",
          "name": "stderr",
          "text": [
            "<ipython-input-16-2c6dbc808fbc>:2: FutureWarning: The default value of numeric_only in DataFrameGroupBy.mean is deprecated. In a future version, numeric_only will default to False. Either specify numeric_only or select only columns which should be valid for the function.\n",
            "  print(train.groupby(\"target\").mean()[\"length\"].sort_values(ascending = False))\n",
            "<ipython-input-16-2c6dbc808fbc>:6: FutureWarning: The default value of numeric_only in DataFrame.mean is deprecated. In a future version, it will default to False. In addition, specifying 'numeric_only=None' is deprecated. Select only valid columns or specify the value of numeric_only to silence this warning.\n",
            "  draw_bar_plot([\"Real\",\"Fake\"],[train[train.target==1].mean()[\"length\"], train[train.target==0].mean()[\"length\"]],\"Real Vs Fake\",\"Average Length\",\"Average Text Length - Real Vs Fake\",1)\n",
            "<ipython-input-16-2c6dbc808fbc>:6: FutureWarning: The default value of numeric_only in DataFrame.mean is deprecated. In a future version, it will default to False. In addition, specifying 'numeric_only=None' is deprecated. Select only valid columns or specify the value of numeric_only to silence this warning.\n",
            "  draw_bar_plot([\"Real\",\"Fake\"],[train[train.target==1].mean()[\"length\"], train[train.target==0].mean()[\"length\"]],\"Real Vs Fake\",\"Average Length\",\"Average Text Length - Real Vs Fake\",1)\n"
          ]
        },
        {
          "output_type": "stream",
          "name": "stdout",
          "text": [
            "target\n",
            "1    108.113421\n",
            "0     95.706817\n",
            "Name: length, dtype: float64\n"
          ]
        },
        {
          "output_type": "display_data",
          "data": {
            "text/plain": [
              "<Figure size 1200x800 with 1 Axes>"
            ],
            "image/png": "[encoded data removed]"
          },
          "metadata": {}
        }
      ]
    },
    {
      "cell_type": "code",
      "source": [
        "# lets drop the column\n",
        "train.drop(\"length\",1,inplace=True)"
      ],
      "metadata": {
        "colab": {
          "base_uri": "https://localhost:8080/"
        },
        "id": "yskcm2t6vYWI",
        "outputId": "e12ed138-83fe-4d4b-ae7c-d29539d57d48"
      },
      "execution_count": 17,
      "outputs": [
        {
          "output_type": "stream",
          "name": "stderr",
          "text": [
            "<ipython-input-17-1b944c7bcc94>:2: FutureWarning: In a future version of pandas all arguments of DataFrame.drop except for the argument 'labels' will be keyword-only.\n",
            "  train.drop(\"length\",1,inplace=True)\n"
          ]
        }
      ]
    },
    {
      "cell_type": "code",
      "source": [
        "# save list of punctuation/special characters in a variable\n",
        "punctuation = list(string.punctuation)"
      ],
      "metadata": {
        "id": "fwLXOX5pwRAS"
      },
      "execution_count": 21,
      "outputs": []
    },
    {
      "cell_type": "code",
      "source": [
        "# punctuations present in all the tweets\n",
        "pun = []\n",
        "for message in train.text:\n",
        "    for word in message.split():\n",
        "        if word in punctuation:\n",
        "            pun.append(word)\n",
        "\n",
        "\n",
        "# lets convert the list to a dictinoary which would contain the punctuations and their frequency\n",
        "wordlist = nltk.FreqDist(pun)\n",
        "# lets save the 10 most frequent stopwords\n",
        "top10 = wordlist.most_common(10)"
      ],
      "metadata": {
        "id": "ngXNEV7CwSel"
      },
      "execution_count": 22,
      "outputs": []
    },
    {
      "cell_type": "code",
      "source": [
        "import matplotlib.pyplot as plt\n",
        "\n",
        "def draw_bar_n_plot(data, title):\n",
        "    if isinstance(data, list):\n",
        "        # Convert the list to a dictionary\n",
        "        data = dict(data)\n",
        "\n",
        "    labels = data.keys()\n",
        "    values = data.values()\n",
        "    plt.figure(figsize=(10, 6))\n",
        "    plt.bar(labels, values, color='skyblue')  # Providing a single color for all bars\n",
        "    plt.title(title)\n",
        "    plt.xlabel('Punctuation')\n",
        "    plt.ylabel('Frequency')\n",
        "    plt.xticks(rotation=45)\n",
        "    plt.show()\n",
        "\n",
        "# Assuming 'top10' is a dictionary or a list containing the top 10 punctuations and their frequencies\n",
        "draw_bar_n_plot(top10, \"Top 10 Punctuations\")\n"
      ],
      "metadata": {
        "colab": {
          "base_uri": "https://localhost:8080/",
          "height": 570
        },
        "id": "0nd3SDZ5wYi5",
        "outputId": "784fe536-f112-4cf3-b026-95048bbd48a2"
      },
      "execution_count": 25,
      "outputs": [
        {
          "output_type": "display_data",
          "data": {
            "text/plain": [
              "<Figure size 1000x600 with 1 Axes>"
            ],
            "image/png": "[encoded data removed]"
          },
          "metadata": {}
        }
      ]
    },
    {
      "cell_type": "markdown",
      "source": [
        "Vocabulary creation"
      ],
      "metadata": {
        "id": "VBB02I-yw1P4"
      }
    },
    {
      "cell_type": "code",
      "source": [
        "# function to create vocab\n",
        "from collections import Counter\n",
        "def create_vocab(df):\n",
        "    vocab = Counter()\n",
        "    for i in range(df.shape[0]):\n",
        "        vocab.update(df.text[i].split())\n",
        "    return(vocab)"
      ],
      "metadata": {
        "id": "m7UN-fGFxGci"
      },
      "execution_count": 27,
      "outputs": []
    },
    {
      "cell_type": "code",
      "source": [
        "# concatenate training and testing datasets\n",
        "master=pd.concat((train,test)).reset_index(drop=True)\n",
        "\n",
        "# call vocabulary creation function on master dataset\n",
        "vocab = create_vocab(master)\n",
        "\n",
        "# lets check the no. of words in the vocabulary\n",
        "len(vocab)"
      ],
      "metadata": {
        "colab": {
          "base_uri": "https://localhost:8080/"
        },
        "id": "HmjFAqUDxH2G",
        "outputId": "58620281-7811-415e-8f4f-c7a8f56bd5a3"
      },
      "execution_count": 28,
      "outputs": [
        {
          "output_type": "execute_result",
          "data": {
            "text/plain": [
              "41747"
            ]
          },
          "metadata": {},
          "execution_count": 28
        }
      ]
    },
    {
      "cell_type": "code",
      "source": [
        "# lets check the most common 50 words in the vocabulary\n",
        "vocab.most_common(50)"
      ],
      "metadata": {
        "colab": {
          "base_uri": "https://localhost:8080/"
        },
        "id": "Zj2WsdLixTGh",
        "outputId": "5c9b630e-d5d7-40a4-c6ca-9a8ac03650ae"
      },
      "execution_count": 29,
      "outputs": [
        {
          "output_type": "execute_result",
          "data": {
            "text/plain": [
              "[('the', 3620),\n",
              " ('to', 2613),\n",
              " ('a', 2612),\n",
              " ('in', 2496),\n",
              " ('of', 2472),\n",
              " ('and', 1849),\n",
              " ('I', 1672),\n",
              " ('is', 1187),\n",
              " ('for', 1131),\n",
              " ('on', 1109),\n",
              " ('-', 1063),\n",
              " ('you', 906),\n",
              " ('my', 797),\n",
              " ('The', 793),\n",
              " ('with', 704),\n",
              " ('by', 687),\n",
              " ('that', 668),\n",
              " ('at', 666),\n",
              " ('it', 621),\n",
              " ('from', 541),\n",
              " ('be', 534),\n",
              " ('was', 518),\n",
              " ('are', 509),\n",
              " ('this', 479),\n",
              " ('have', 473),\n",
              " ('like', 452),\n",
              " ('&amp;', 429),\n",
              " ('as', 414),\n",
              " ('A', 395),\n",
              " ('your', 375),\n",
              " ('just', 362),\n",
              " ('up', 343),\n",
              " ('not', 338),\n",
              " ('but', 337),\n",
              " ('out', 336),\n",
              " ('me', 335),\n",
              " ('so', 326),\n",
              " ('has', 312),\n",
              " (\"I'm\", 310),\n",
              " ('via', 306),\n",
              " ('??', 304),\n",
              " ('will', 301),\n",
              " ('after', 294),\n",
              " ('an', 290),\n",
              " ('about', 280),\n",
              " ('get', 270),\n",
              " ('all', 259),\n",
              " ('or', 257),\n",
              " ('no', 256),\n",
              " ('when', 253)]"
            ]
          },
          "metadata": {},
          "execution_count": 29
        }
      ]
    },
    {
      "cell_type": "code",
      "source": [
        "# create the final vocab by considering words with more than one occurence\n",
        "final_vocab = []\n",
        "min_occur = 2\n",
        "for k,v in vocab.items():\n",
        "    if v >= min_occur:\n",
        "        final_vocab.append(k)"
      ],
      "metadata": {
        "id": "1mRU9rIpxXSL"
      },
      "execution_count": 30,
      "outputs": []
    },
    {
      "cell_type": "code",
      "source": [
        "# lets check the no. of the words in the final vocabulary\n",
        "len(final_vocab)"
      ],
      "metadata": {
        "colab": {
          "base_uri": "https://localhost:8080/"
        },
        "id": "X3RxEtQUxaL-",
        "outputId": "46003059-9dfc-4dd9-d024-709b76ac5ec1"
      },
      "execution_count": 31,
      "outputs": [
        {
          "output_type": "execute_result",
          "data": {
            "text/plain": [
              "11318"
            ]
          },
          "metadata": {},
          "execution_count": 31
        }
      ]
    },
    {
      "cell_type": "code",
      "source": [
        "# function to filter the dataset, keep only words which are present in the vocab\n",
        "def filter(tweet):\n",
        "    sentence = \"\"\n",
        "    for word in tweet.split():\n",
        "        if word in final_vocab:\n",
        "            sentence = sentence + word + ' '\n",
        "    return(sentence)"
      ],
      "metadata": {
        "id": "SKvknUvkxdJ-"
      },
      "execution_count": 32,
      "outputs": []
    },
    {
      "cell_type": "code",
      "source": [
        "# apply filter function on the train and test datasets\n",
        "train['text'] = train['text'].apply(lambda s : filter(s))\n",
        "test ['text'] = test ['text'].apply(lambda s : filter(s))"
      ],
      "metadata": {
        "id": "LPu6941Gxil9"
      },
      "execution_count": 33,
      "outputs": []
    },
    {
      "cell_type": "code",
      "source": [
        "# lets take a look at the update training dataset\n",
        "train.text.head()"
      ],
      "metadata": {
        "colab": {
          "base_uri": "https://localhost:8080/"
        },
        "id": "GjJNaLIQxp1Y",
        "outputId": "199a3cdf-04a4-4dd3-86ec-80e105943c65"
      },
      "execution_count": 34,
      "outputs": [
        {
          "output_type": "execute_result",
          "data": {
            "text/plain": [
              "0    Our are the Reason of this #earthquake May For...\n",
              "1                          Forest fire near La Canada \n",
              "2    All residents asked to in are being by No othe...\n",
              "3    people receive #wildfires evacuation orders in...\n",
              "4    Just got sent this photo from Ruby #Alaska as ...\n",
              "Name: text, dtype: object"
            ]
          },
          "metadata": {},
          "execution_count": 34
        }
      ]
    },
    {
      "cell_type": "markdown",
      "source": [
        "Model Building And Evaluation"
      ],
      "metadata": {
        "id": "yhDUg4djx1BS"
      }
    },
    {
      "cell_type": "code",
      "source": [
        "# function to calculate f1 score for each epoch\n",
        "import keras.backend as K\n",
        "def get_f1(y_true, y_pred): #taken from old keras source code\n",
        "    true_positives = K.sum(K.round(K.clip(y_true * y_pred, 0, 1)))\n",
        "    possible_positives = K.sum(K.round(K.clip(y_true, 0, 1)))\n",
        "    predicted_positives = K.sum(K.round(K.clip(y_pred, 0, 1)))\n",
        "    precision = true_positives / (predicted_positives + K.epsilon())\n",
        "    recall = true_positives / (possible_positives + K.epsilon())\n",
        "    f1_val = 2*(precision*recall)/(precision+recall+K.epsilon())\n",
        "    return f1_val"
      ],
      "metadata": {
        "id": "ITcZZILcxrWc"
      },
      "execution_count": 35,
      "outputs": []
    },
    {
      "cell_type": "code",
      "source": [
        "# Bag of Words model\n",
        "from keras.preprocessing.text import Tokenizer\n",
        "\n",
        "# fit a tokenizer\n",
        "def create_tokenizer(lines):\n",
        "    tokenizer = Tokenizer()\n",
        "    tokenizer.fit_on_texts(lines)\n",
        "    return tokenizer"
      ],
      "metadata": {
        "id": "Y7AO45Odx5-5"
      },
      "execution_count": 36,
      "outputs": []
    },
    {
      "cell_type": "code",
      "source": [
        "# lets use only tweet text to build the model\n",
        "X = train.text\n",
        "y = train.target\n",
        "\n",
        "test_id = test.id\n",
        "test.drop([\"id\",\"location\",\"keyword\"],1,inplace = True)"
      ],
      "metadata": {
        "colab": {
          "base_uri": "https://localhost:8080/"
        },
        "id": "2Ee0Vpy9x80l",
        "outputId": "70f16119-68f0-4828-e350-98f8fd926fef"
      },
      "execution_count": 37,
      "outputs": [
        {
          "output_type": "stream",
          "name": "stderr",
          "text": [
            "<ipython-input-37-754feb446dcc>:6: FutureWarning: In a future version of pandas all arguments of DataFrame.drop except for the argument 'labels' will be keyword-only.\n",
            "  test.drop([\"id\",\"location\",\"keyword\"],1,inplace = True)\n"
          ]
        }
      ]
    },
    {
      "cell_type": "code",
      "source": [
        "# Test train split\n",
        "X_train, X_test, y_train, y_test = train_test_split(X, y, test_size = 0.2, random_state = 42)"
      ],
      "metadata": {
        "id": "1P9nLvqix_bi"
      },
      "execution_count": 38,
      "outputs": []
    },
    {
      "cell_type": "code",
      "source": [
        "# create and apply tokenizer on the training dataset\n",
        "tokenizer = create_tokenizer(X_train)\n",
        "X_train_set = tokenizer.texts_to_matrix(X_train, mode = 'freq')"
      ],
      "metadata": {
        "id": "3W8QT-sCyCrW"
      },
      "execution_count": 39,
      "outputs": []
    },
    {
      "cell_type": "code",
      "source": [
        "# define the model\n",
        "def define_model(n_words):\n",
        "    # define network\n",
        "    model = Sequential()\n",
        "    model.add(Dense(128, input_shape=(n_words,), activation='relu'))\n",
        "    model.add(Dense(1, activation='sigmoid'))\n",
        "    # compile network\n",
        "    model.compile(loss='binary_crossentropy', optimizer='adam', metrics = [get_f1])\n",
        "    # summarize defined model\n",
        "    model.summary()\n",
        "    plot_model(model, to_file='model.png', show_shapes=True)\n",
        "    return model"
      ],
      "metadata": {
        "id": "FmVHmPa7yH0L"
      },
      "execution_count": 40,
      "outputs": []
    },
    {
      "cell_type": "code",
      "source": [
        "import tensorflow as tf\n",
        "from tensorflow.keras.models import Sequential\n",
        "from tensorflow.keras.layers import Dense\n",
        "from tensorflow.keras.utils import plot_model\n",
        "\n",
        "def define_model(input_dim):\n",
        "    model = Sequential([\n",
        "        Dense(128, input_dim=input_dim, activation='relu'),\n",
        "        Dense(1, activation='sigmoid')\n",
        "    ])\n",
        "    model.compile(loss='binary_crossentropy', optimizer='adam', metrics=['accuracy'])\n",
        "\n",
        "    # summarize defined model\n",
        "    model.summary()\n",
        "    plot_model(model, to_file='model.png', show_shapes=True)  # Import and use plot_model here\n",
        "    return model\n",
        "\n",
        "# Assuming X_train_set is your training data\n",
        "n_words = X_train_set.shape[1]\n",
        "model = define_model(n_words)\n"
      ],
      "metadata": {
        "colab": {
          "base_uri": "https://localhost:8080/"
        },
        "id": "9xPSjFevyJLR",
        "outputId": "a8ac6fed-624d-43cd-b011-de356a4000af"
      },
      "execution_count": 42,
      "outputs": [
        {
          "output_type": "stream",
          "name": "stdout",
          "text": [
            "Model: \"sequential_1\"\n",
            "_________________________________________________________________\n",
            " Layer (type)                Output Shape              Param #   \n",
            "=================================================================\n",
            " dense_2 (Dense)             (None, 128)               865792    \n",
            "                                                                 \n",
            " dense_3 (Dense)             (None, 1)                 129       \n",
            "                                                                 \n",
            "=================================================================\n",
            "Total params: 865921 (3.30 MB)\n",
            "Trainable params: 865921 (3.30 MB)\n",
            "Non-trainable params: 0 (0.00 Byte)\n",
            "_________________________________________________________________\n"
          ]
        }
      ]
    },
    {
      "cell_type": "code",
      "source": [
        "#fit network\n",
        "model.fit(X_train_set,y_train,epochs=10,verbose=2)"
      ],
      "metadata": {
        "colab": {
          "base_uri": "https://localhost:8080/"
        },
        "id": "D6K8YGyFyy-X",
        "outputId": "100cc581-69a2-4e4c-e536-f99fa290e7a2"
      },
      "execution_count": 43,
      "outputs": [
        {
          "output_type": "stream",
          "name": "stdout",
          "text": [
            "Epoch 1/10\n",
            "191/191 - 2s - loss: 0.6244 - accuracy: 0.6616 - 2s/epoch - 13ms/step\n",
            "Epoch 2/10\n",
            "191/191 - 2s - loss: 0.4559 - accuracy: 0.8154 - 2s/epoch - 9ms/step\n",
            "Epoch 3/10\n",
            "191/191 - 2s - loss: 0.3622 - accuracy: 0.8558 - 2s/epoch - 9ms/step\n",
            "Epoch 4/10\n",
            "191/191 - 2s - loss: 0.3067 - accuracy: 0.8793 - 2s/epoch - 9ms/step\n",
            "Epoch 5/10\n",
            "191/191 - 2s - loss: 0.2659 - accuracy: 0.8980 - 2s/epoch - 9ms/step\n",
            "Epoch 6/10\n",
            "191/191 - 2s - loss: 0.2346 - accuracy: 0.9133 - 2s/epoch - 11ms/step\n",
            "Epoch 7/10\n",
            "191/191 - 2s - loss: 0.2084 - accuracy: 0.9233 - 2s/epoch - 11ms/step\n",
            "Epoch 8/10\n",
            "191/191 - 2s - loss: 0.1859 - accuracy: 0.9333 - 2s/epoch - 9ms/step\n",
            "Epoch 9/10\n",
            "191/191 - 2s - loss: 0.1687 - accuracy: 0.9396 - 2s/epoch - 8ms/step\n",
            "Epoch 10/10\n",
            "191/191 - 2s - loss: 0.1522 - accuracy: 0.9481 - 2s/epoch - 9ms/step\n"
          ]
        },
        {
          "output_type": "execute_result",
          "data": {
            "text/plain": [
              "<keras.src.callbacks.History at 0x7f1148f49600>"
            ]
          },
          "metadata": {},
          "execution_count": 43
        }
      ]
    },
    {
      "cell_type": "markdown",
      "source": [
        "CNN with word Embeddings"
      ],
      "metadata": {
        "id": "A20vrhLezHYl"
      }
    },
    {
      "cell_type": "code",
      "source": [
        "# fit a tokenizer\n",
        "#we have already fit a tokenizer on our data, pasting the same code again\n",
        "#t = Tokenizer()\n",
        "#t.fit_on_texts(X_train.tolist())"
      ],
      "metadata": {
        "id": "iWPukYrTzA5a"
      },
      "execution_count": null,
      "outputs": []
    },
    {
      "cell_type": "code",
      "source": [
        "max_length = max([len(s) for s in train.text])\n",
        "print('Maximum length: %d' % max_length)"
      ],
      "metadata": {
        "colab": {
          "base_uri": "https://localhost:8080/"
        },
        "id": "N_B6txuEzOJS",
        "outputId": "19f00b09-af70-425c-e760-46cee150d668"
      },
      "execution_count": 45,
      "outputs": [
        {
          "output_type": "stream",
          "name": "stdout",
          "text": [
            "Maximum length: 145\n"
          ]
        }
      ]
    },
    {
      "cell_type": "code",
      "source": [
        "from tensorflow.keras.preprocessing.text import Tokenizer\n",
        "from tensorflow.keras.preprocessing.sequence import pad_sequences\n",
        "\n",
        "# Assuming X_train is your training data\n",
        "t = Tokenizer()\n",
        "t.fit_on_texts(X_train.tolist())  # Fit tokenizer on your training data\n",
        "\n",
        "# Define max_length as 100 (or any other value you prefer)\n",
        "max_length = 100\n",
        "\n",
        "# Perform text encoding and padding\n",
        "encoded_docs = t.texts_to_sequences(X_train.tolist())\n",
        "padded_docs = pad_sequences(encoded_docs, maxlen=max_length, padding='post')\n",
        "print(padded_docs)\n"
      ],
      "metadata": {
        "colab": {
          "base_uri": "https://localhost:8080/"
        },
        "id": "_JMbsu5gzRh9",
        "outputId": "f2aae471-46af-44e2-a7ce-62b15f07ae8e"
      },
      "execution_count": 47,
      "outputs": [
        {
          "output_type": "stream",
          "name": "stdout",
          "text": [
            "[[   6 2666    5 ...    0    0    0]\n",
            " [ 626    2 1527 ...    0    0    0]\n",
            " [ 591 2668    4 ...    0    0    0]\n",
            " ...\n",
            " [ 349 3757    6 ...    0    0    0]\n",
            " [ 561  141    2 ...    0    0    0]\n",
            " [   7 1901    4 ...    0    0    0]]\n"
          ]
        }
      ]
    },
    {
      "cell_type": "code",
      "source": [
        "# define the model\n",
        "def define_model(vocab_size, max_length):\n",
        "    model = Sequential()\n",
        "    model.add(Embedding(vocab_size, 100, input_length=max_length))\n",
        "    model.add(Conv1D(filters=32, kernel_size=8, activation='relu'))\n",
        "    model.add(MaxPooling1D(pool_size=2))\n",
        "    model.add(Flatten())\n",
        "    model.add(Dense(10, activation='relu'))\n",
        "    model.add(Dense(1, activation='sigmoid'))\n",
        "    # compile network\n",
        "    model.compile(loss='binary_crossentropy', optimizer='adam', metrics=['accuracy'])\n",
        "    # summarize defined model\n",
        "    model.summary()\n",
        "    plot_model(model, to_file='model.png', show_shapes=True)\n",
        "    return model"
      ],
      "metadata": {
        "id": "jHC99WJbzqah"
      },
      "execution_count": 49,
      "outputs": []
    },
    {
      "cell_type": "code",
      "source": [
        "# Calculate vocab_size based on the number of unique words in the Tokenizer\n",
        "vocab_size = len(t.word_index) + 1  # Adding 1 for the reserved 0 index\n",
        "\n",
        "# Define max_length as before\n",
        "max_length = 100\n",
        "\n",
        "# Define and compile the model\n",
        "model = define_model(vocab_size, max_length)\n",
        "\n",
        "# Fit the model to your training data\n",
        "model.fit(padded_docs, y_train, epochs=10, verbose=2)\n"
      ],
      "metadata": {
        "colab": {
          "base_uri": "https://localhost:8080/"
        },
        "id": "uHd-uqcTztva",
        "outputId": "9145c305-6173-42cc-e173-18d9dd59e5d0"
      },
      "execution_count": 52,
      "outputs": [
        {
          "output_type": "stream",
          "name": "stdout",
          "text": [
            "Model: \"sequential_2\"\n",
            "_________________________________________________________________\n",
            " Layer (type)                Output Shape              Param #   \n",
            "=================================================================\n",
            " embedding (Embedding)       (None, 100, 100)          676300    \n",
            "                                                                 \n",
            " conv1d (Conv1D)             (None, 93, 32)            25632     \n",
            "                                                                 \n",
            " max_pooling1d (MaxPooling1  (None, 46, 32)            0         \n",
            " D)                                                              \n",
            "                                                                 \n",
            " flatten (Flatten)           (None, 1472)              0         \n",
            "                                                                 \n",
            " dense_4 (Dense)             (None, 10)                14730     \n",
            "                                                                 \n",
            " dense_5 (Dense)             (None, 1)                 11        \n",
            "                                                                 \n",
            "=================================================================\n",
            "Total params: 716673 (2.73 MB)\n",
            "Trainable params: 716673 (2.73 MB)\n",
            "Non-trainable params: 0 (0.00 Byte)\n",
            "_________________________________________________________________\n",
            "Epoch 1/10\n",
            "191/191 - 9s - loss: 0.5715 - accuracy: 0.6938 - 9s/epoch - 46ms/step\n",
            "Epoch 2/10\n",
            "191/191 - 4s - loss: 0.3528 - accuracy: 0.8547 - 4s/epoch - 20ms/step\n",
            "Epoch 3/10\n",
            "191/191 - 4s - loss: 0.2280 - accuracy: 0.9156 - 4s/epoch - 21ms/step\n",
            "Epoch 4/10\n",
            "191/191 - 4s - loss: 0.1371 - accuracy: 0.9522 - 4s/epoch - 23ms/step\n",
            "Epoch 5/10\n",
            "191/191 - 4s - loss: 0.0873 - accuracy: 0.9685 - 4s/epoch - 20ms/step\n",
            "Epoch 6/10\n",
            "191/191 - 4s - loss: 0.0635 - accuracy: 0.9757 - 4s/epoch - 21ms/step\n",
            "Epoch 7/10\n",
            "191/191 - 5s - loss: 0.0519 - accuracy: 0.9768 - 5s/epoch - 24ms/step\n",
            "Epoch 8/10\n",
            "191/191 - 4s - loss: 0.0430 - accuracy: 0.9813 - 4s/epoch - 20ms/step\n",
            "Epoch 9/10\n",
            "191/191 - 4s - loss: 0.0399 - accuracy: 0.9811 - 4s/epoch - 20ms/step\n",
            "Epoch 10/10\n",
            "191/191 - 5s - loss: 0.0362 - accuracy: 0.9828 - 5s/epoch - 25ms/step\n"
          ]
        },
        {
          "output_type": "execute_result",
          "data": {
            "text/plain": [
              "<keras.src.callbacks.History at 0x7f1131f13ee0>"
            ]
          },
          "metadata": {},
          "execution_count": 52
        }
      ]
    },
    {
      "cell_type": "code",
      "source": [
        "loss, accuracy = model.evaluate(padded_docs, y_train, verbose=0)"
      ],
      "metadata": {
        "id": "9tYbb0cA1X9B"
      },
      "execution_count": 53,
      "outputs": []
    },
    {
      "cell_type": "code",
      "source": [
        "print(accuracy)"
      ],
      "metadata": {
        "colab": {
          "base_uri": "https://localhost:8080/"
        },
        "id": "LS17gP221cMV",
        "outputId": "0748b2b5-7a33-4d06-c320-095bb68dfad8"
      },
      "execution_count": 54,
      "outputs": [
        {
          "output_type": "stream",
          "name": "stdout",
          "text": [
            "0.983415424823761\n"
          ]
        }
      ]
    },
    {
      "cell_type": "code",
      "source": [
        "encoded_docs = t.texts_to_sequences(X_test.tolist())\n",
        "padded_docs = pad_sequences(encoded_docs, maxlen=max_length, padding='post')"
      ],
      "metadata": {
        "id": "Fii2D7ls1k7_"
      },
      "execution_count": 55,
      "outputs": []
    },
    {
      "cell_type": "code",
      "source": [
        "# Prediction on the test dataset\n",
        "y_pred_probs = model.predict(padded_docs)\n",
        "\n",
        "# Convert predicted probabilities to class labels\n",
        "y_pred = (y_pred_probs > 0.5).astype(int)\n",
        "\n",
        "# Assuming y_test is your ground truth labels\n",
        "accuracy = accuracy_score(y_test, y_pred)\n",
        "print(\"Test Accuracy:\", accuracy)\n"
      ],
      "metadata": {
        "colab": {
          "base_uri": "https://localhost:8080/"
        },
        "id": "eko-CJCb1m1e",
        "outputId": "47390214-6297-48dd-df19-0833ba2e3528"
      },
      "execution_count": 57,
      "outputs": [
        {
          "output_type": "stream",
          "name": "stdout",
          "text": [
            "48/48 [==============================] - 1s 11ms/step\n",
            "Test Accuracy: 0.7728168089297439\n"
          ]
        }
      ]
    }
  ]
}